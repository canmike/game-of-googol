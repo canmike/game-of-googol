{
  "nbformat": 4,
  "nbformat_minor": 0,
  "metadata": {
    "colab": {
      "provenance": [],
      "authorship_tag": "ABX9TyMXPIzeZ0h5b1m3wXbLl2Et",
      "include_colab_link": true
    },
    "kernelspec": {
      "name": "python3",
      "display_name": "Python 3"
    },
    "language_info": {
      "name": "python"
    }
  },
  "cells": [
    {
      "cell_type": "markdown",
      "metadata": {
        "id": "view-in-github",
        "colab_type": "text"
      },
      "source": [
        "<a href=\"https://colab.research.google.com/github/canmike/game-of-googol/blob/main/game_of_googol.ipynb\" target=\"_parent\"><img src=\"https://colab.research.google.com/assets/colab-badge.svg\" alt=\"Open In Colab\"/></a>"
      ]
    },
    {
      "cell_type": "code",
      "execution_count": 1,
      "metadata": {
        "id": "Slp0cOLnXtUg"
      },
      "outputs": [],
      "source": [
        "import math\n",
        "import random\n",
        "\n",
        "\n",
        "class GameOfGoogol():\n",
        "  def __init__(self, min_num=0, max_num=100000, card_count=10):\n",
        "    self.min_num = min_num\n",
        "    self.max_num = max_num\n",
        "    self.card_count = card_count\n",
        "    self.card_list = [random.randint(min_num, max_num) for _ in range(card_count)]\n",
        "    self.last_opened = -1\n",
        "\n",
        "  def open_card(self, index):\n",
        "    self.last_opened = self.card_list[index]\n",
        "    return self.last_opened\n",
        "\n",
        "  def quit(self):\n",
        "    return self.last_opened == max(self.card_list)\n",
        "\n",
        "  def get_answer(self):\n",
        "    return max(self.card_list)"
      ]
    },
    {
      "cell_type": "code",
      "source": [
        "def simulate_game(card_count):\n",
        "  game = GameOfGoogol(card_count=card_count)\n",
        "  min_card_open = math.ceil(card_count / math.e)\n",
        "\n",
        "  opened_cards = []\n",
        "  for i in range(min_card_open):\n",
        "    opened_cards.append(game.open_card(i))\n",
        "\n",
        "  while len(opened_cards) < card_count:\n",
        "    new_card = game.open_card(len(opened_cards))\n",
        "    opened_cards.append(new_card)\n",
        "    if (new_card == max(opened_cards)) or len(opened_cards) == card_count:\n",
        "      result = game.quit()\n",
        "      if result:\n",
        "        #print(f\"Game win. Opened card count: {len(opened_cards)}\")\n",
        "        return True\n",
        "      else:\n",
        "        #print(f\"Game lost. Opened card count: {len(opened_cards)}. Guess was {new_card}. Answer was {game.get_answer()}.\")\n",
        "        return False\n",
        "      break\n",
        ""
      ],
      "metadata": {
        "id": "W0elIJyhZPEf"
      },
      "execution_count": 2,
      "outputs": []
    },
    {
      "cell_type": "code",
      "source": [
        "win_count = 0\n",
        "lose_count = 0\n",
        "\n",
        "game_count = 1000000\n",
        "card_count = 100\n",
        "for i in range(game_count):\n",
        "  if simulate_game(card_count):\n",
        "    win_count += 1\n",
        "  else:\n",
        "    lose_count += 1\n",
        "\n",
        "print(f\"Game count: {game_count} | Card count: {card_count}\")\n",
        "print(f\"Win count: {win_count}   | Lose count: {lose_count}\")\n",
        "print(f\"Win rate: {100 * win_count / game_count:.2f}%\")\n",
        "print(f\"Expected minimum win rate: {100*1/math.e:.2f}%\")"
      ],
      "metadata": {
        "colab": {
          "base_uri": "https://localhost:8080/"
        },
        "id": "PoaczqVfaaOl",
        "outputId": "5eb53e53-ee05-4327-d727-23fbeca73799"
      },
      "execution_count": 3,
      "outputs": [
        {
          "output_type": "stream",
          "name": "stdout",
          "text": [
            "Game count: 1000000 | Card count: 100\n",
            "Win count: 371331   | Lose count: 628669\n",
            "Win rate: 37.13%\n",
            "Expected minimum win rate: 36.79%\n"
          ]
        }
      ]
    }
  ]
}